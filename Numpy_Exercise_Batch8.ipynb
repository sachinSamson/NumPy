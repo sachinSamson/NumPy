{
  "nbformat": 4,
  "nbformat_minor": 0,
  "metadata": {
    "kernelspec": {
      "display_name": "Python 3",
      "language": "python",
      "name": "python3"
    },
    "language_info": {
      "codemirror_mode": {
        "name": "ipython",
        "version": 3
      },
      "file_extension": ".py",
      "mimetype": "text/x-python",
      "name": "python",
      "nbconvert_exporter": "python",
      "pygments_lexer": "ipython3",
      "version": "3.7.3"
    },
    "colab": {
      "name": "Numpy_Exercise-Batch8.ipynb",
      "provenance": [],
      "collapsed_sections": []
    }
  },
  "cells": [
    {
      "cell_type": "markdown",
      "metadata": {
        "id": "j8C1lQCnksZL"
      },
      "source": [
        "# Numpy Exercise  <img src = \"numpy1.png\">\n",
        "###### Authored by T.K.Senthil Kumar"
      ]
    },
    {
      "cell_type": "markdown",
      "metadata": {
        "id": "AZHdnMiEksZp"
      },
      "source": [
        "#### 1. Create a numpy array with the number of elements equals your age. The value of array elements is a random number between 10 to your age "
      ]
    },
    {
      "cell_type": "code",
      "metadata": {
        "colab": {
          "base_uri": "https://localhost:8080/"
        },
        "id": "MCsfY1z6ksZq",
        "outputId": "08fafea9-bc03-48c7-ff31-1582a02df491"
      },
      "source": [
        "import numpy as np\n",
        "np.random.seed(25)\n",
        "ageArray = np.random.randint(10,25,25)\n",
        "ageArray\n"
      ],
      "execution_count": 1,
      "outputs": [
        {
          "output_type": "execute_result",
          "data": {
            "text/plain": [
              "array([14, 24, 20, 23, 16, 17, 22, 12, 23, 18, 22, 14, 19, 23, 14, 15, 11,\n",
              "       17, 13, 18, 17, 13, 14, 23, 13])"
            ]
          },
          "metadata": {},
          "execution_count": 1
        }
      ]
    },
    {
      "cell_type": "markdown",
      "metadata": {
        "id": "bbtTNIzsksaE"
      },
      "source": [
        "#### 2. Create a numpy array between 1 to 50 with the span(space) of 2 and print the length of the array"
      ]
    },
    {
      "cell_type": "code",
      "metadata": {
        "colab": {
          "base_uri": "https://localhost:8080/"
        },
        "id": "2wgO1v7rksaE",
        "outputId": "4459127c-a1ed-4693-a80d-8afd885fecc1"
      },
      "source": [
        "newarray=np.arange(1,50,2)\n",
        "print(len(newarray))\n",
        "\n"
      ],
      "execution_count": 2,
      "outputs": [
        {
          "output_type": "stream",
          "name": "stdout",
          "text": [
            "25\n"
          ]
        }
      ]
    },
    {
      "cell_type": "markdown",
      "metadata": {
        "id": "t_86B9prksaF"
      },
      "source": [
        "#### 3. Create an equally spaced numpy array with 27 elements between 4 and 7 "
      ]
    },
    {
      "cell_type": "code",
      "metadata": {
        "colab": {
          "base_uri": "https://localhost:8080/"
        },
        "id": "wzNQXMTqksaG",
        "outputId": "883361ef-5f29-4dfc-d4ed-a8e5a2a9cc84"
      },
      "source": [
        "newarray1=np.linspace(4,7,27)\n",
        "print(newarray1)\n",
        "\n"
      ],
      "execution_count": 3,
      "outputs": [
        {
          "output_type": "stream",
          "name": "stdout",
          "text": [
            "[4.         4.11538462 4.23076923 4.34615385 4.46153846 4.57692308\n",
            " 4.69230769 4.80769231 4.92307692 5.03846154 5.15384615 5.26923077\n",
            " 5.38461538 5.5        5.61538462 5.73076923 5.84615385 5.96153846\n",
            " 6.07692308 6.19230769 6.30769231 6.42307692 6.53846154 6.65384615\n",
            " 6.76923077 6.88461538 7.        ]\n"
          ]
        }
      ]
    },
    {
      "cell_type": "markdown",
      "metadata": {
        "id": "Abw9aScXksaI"
      },
      "source": [
        "#### 4. Create a matrix of size (5 x 4) with random numbers and round off the each elements by only 2 fractional points."
      ]
    },
    {
      "cell_type": "code",
      "metadata": {
        "colab": {
          "base_uri": "https://localhost:8080/"
        },
        "id": "cgaVVSkvksaJ",
        "outputId": "1d3cf2ee-b743-4451-a014-b9a568e939ae"
      },
      "source": [
        "\n",
        "np.random.seed(25)\n",
        "ageArray = np.random.rand(10,25)\n",
        "ageArray.resize(5,4)\n",
        "print('before round off'+str(ageArray))\n",
        "print('after round off'+str(np.round(ageArray,2)))\n"
      ],
      "execution_count": 4,
      "outputs": [
        {
          "output_type": "stream",
          "name": "stdout",
          "text": [
            "before round off[[0.87012414 0.58227693 0.27883894 0.18591123]\n",
            " [0.41110013 0.11737555 0.68496874 0.43761106]\n",
            " [0.55622933 0.36708032 0.40236573 0.1130407 ]\n",
            " [0.44703085 0.58544512 0.1619851  0.52071879]\n",
            " [0.32605113 0.69918624 0.36639455 0.83637451]]\n",
            "after round off[[0.87 0.58 0.28 0.19]\n",
            " [0.41 0.12 0.68 0.44]\n",
            " [0.56 0.37 0.4  0.11]\n",
            " [0.45 0.59 0.16 0.52]\n",
            " [0.33 0.7  0.37 0.84]]\n"
          ]
        }
      ]
    },
    {
      "cell_type": "markdown",
      "metadata": {
        "id": "cJI7532EksaW"
      },
      "source": [
        "#### 5. Create a matrix of size (5x5) with random integers between 5 to 15"
      ]
    },
    {
      "cell_type": "code",
      "metadata": {
        "colab": {
          "base_uri": "https://localhost:8080/"
        },
        "id": "fXz9LUNTksaX",
        "outputId": "602c4279-0cf5-44fc-da8c-df591921f2d5"
      },
      "source": [
        "np.random.seed(25)\n",
        "ageArray = np.random.randint(5,15,25)\n",
        "ageArray.reshape(5,5)\n",
        "\n",
        "\n"
      ],
      "execution_count": 5,
      "outputs": [
        {
          "output_type": "execute_result",
          "data": {
            "text/plain": [
              "array([[ 9, 11, 12,  7, 13],\n",
              "       [ 9, 14,  9, 10,  6],\n",
              "       [12,  8, 13, 12,  8],\n",
              "       [ 9,  8,  6, 11,  5],\n",
              "       [14,  5,  7, 10,  9]])"
            ]
          },
          "metadata": {},
          "execution_count": 5
        }
      ]
    },
    {
      "cell_type": "markdown",
      "metadata": {
        "id": "bhGg_G16ksaY"
      },
      "source": [
        "#### 6. Create the one dimensional array of zeros of random length below 20 with the data type int32"
      ]
    },
    {
      "cell_type": "code",
      "metadata": {
        "colab": {
          "base_uri": "https://localhost:8080/"
        },
        "id": "K4AGVRgXksaZ",
        "outputId": "c5f268c4-55e2-4ff5-b592-e0d568c7d202"
      },
      "source": [
        "np.random.seed();\n",
        "length = np.random.randint(1,20,1)\n",
        "numArray = np.random.randint(5,15,25)\n",
        "numArray.resize(1,length[0])\n",
        "numArray"
      ],
      "execution_count": 6,
      "outputs": [
        {
          "output_type": "execute_result",
          "data": {
            "text/plain": [
              "array([[ 7, 12,  7]])"
            ]
          },
          "metadata": {},
          "execution_count": 6
        }
      ]
    },
    {
      "cell_type": "markdown",
      "metadata": {
        "id": "L6etswJyksaa"
      },
      "source": [
        "#### 7. Create a two dimensional array of ones of random row and column lengths with the data type of float32 "
      ]
    },
    {
      "cell_type": "code",
      "metadata": {
        "colab": {
          "base_uri": "https://localhost:8080/"
        },
        "id": "xY2bXPOCksak",
        "outputId": "80a4c18f-fe62-4318-e28b-d6fbfb1ca8e4"
      },
      "source": [
        "np.random.seed();\n",
        "row = np.random.randint(2,8,1)\n",
        "column = np.random.randint(2,20,1)\n",
        "floatArray = np.random.rand(5,15,row[0]*column[0])\n",
        "floatArray.resize(row[0],column[0])\n",
        "floatArray\n",
        "\n"
      ],
      "execution_count": 7,
      "outputs": [
        {
          "output_type": "execute_result",
          "data": {
            "text/plain": [
              "array([[0.23882028, 0.48822807, 0.22692821, 0.70464739, 0.25104314,\n",
              "        0.58523896, 0.62507025],\n",
              "       [0.75786606, 0.89271168, 0.99748384, 0.80382748, 0.07150617,\n",
              "        0.10495175, 0.97902639]])"
            ]
          },
          "metadata": {},
          "execution_count": 7
        }
      ]
    },
    {
      "cell_type": "markdown",
      "metadata": {
        "id": "Gd53yO-Cksal"
      },
      "source": [
        "#### 8. Create a matrix exactly as same as shown below and print its shape, type and dtype\n",
        "<img src = \"np_mat1.png\">"
      ]
    },
    {
      "cell_type": "code",
      "metadata": {
        "colab": {
          "base_uri": "https://localhost:8080/"
        },
        "id": "dHlyhgPUksam",
        "outputId": "68da0c12-a15f-4e13-f693-130b2001a27b"
      },
      "source": [
        "np_mat1 = np.array([[9,25,50,34,45],[3,34,34,65,2],[5,7,3,76,3],[7,8,6,54,6],[23,12,8,5,8]])\n",
        "print('Shape '+str(np_mat1.shape))\n",
        "print('Type '+str(type(np_mat1)))\n",
        "print('DType '+str(np_mat1.dtype))\n"
      ],
      "execution_count": 8,
      "outputs": [
        {
          "output_type": "stream",
          "name": "stdout",
          "text": [
            "Shape (5, 5)\n",
            "Type <class 'numpy.ndarray'>\n",
            "DType int64\n"
          ]
        }
      ]
    },
    {
      "cell_type": "markdown",
      "metadata": {
        "id": "elp-I9q0ksam"
      },
      "source": [
        "#### 9. Access the center pixel of the matrix defined in the question no 8 ( Don't enter the row and column index explicitely)"
      ]
    },
    {
      "cell_type": "code",
      "metadata": {
        "id": "_l46pg10ksan",
        "colab": {
          "base_uri": "https://localhost:8080/"
        },
        "outputId": "620e5c60-a498-4151-ed97-fe151b0e124a"
      },
      "source": [
        "rowcount = np.array(np_mat1.shape)\n",
        "rc = np.round(rowcount/2,0)\n",
        "np_mat1[int(rc[0]),int(rc[1])]"
      ],
      "execution_count": 9,
      "outputs": [
        {
          "output_type": "execute_result",
          "data": {
            "text/plain": [
              "3"
            ]
          },
          "metadata": {},
          "execution_count": 9
        }
      ]
    },
    {
      "cell_type": "markdown",
      "metadata": {
        "id": "YST2MlCuksan"
      },
      "source": [
        "#### 10. Print the all the elements of 3rd row of the matrix"
      ]
    },
    {
      "cell_type": "code",
      "metadata": {
        "id": "ggeMKQ0rksao",
        "colab": {
          "base_uri": "https://localhost:8080/"
        },
        "outputId": "c7073827-6a3c-4e3e-f690-e1f282360562"
      },
      "source": [
        "np_mat1[2]"
      ],
      "execution_count": 10,
      "outputs": [
        {
          "output_type": "execute_result",
          "data": {
            "text/plain": [
              "array([ 5,  7,  3, 76,  3])"
            ]
          },
          "metadata": {},
          "execution_count": 10
        }
      ]
    },
    {
      "cell_type": "markdown",
      "metadata": {
        "id": "ru-4Cma9ksap"
      },
      "source": [
        "#### 11. Print the all the elements of 4th columns of the matrix"
      ]
    },
    {
      "cell_type": "code",
      "metadata": {
        "id": "w0xU6-6rksap",
        "colab": {
          "base_uri": "https://localhost:8080/"
        },
        "outputId": "1f2833f0-f7f5-4209-fb95-c5a7b117e8a5"
      },
      "source": [
        "np_mat1[:,3]"
      ],
      "execution_count": 11,
      "outputs": [
        {
          "output_type": "execute_result",
          "data": {
            "text/plain": [
              "array([34, 65, 76, 54,  5])"
            ]
          },
          "metadata": {},
          "execution_count": 11
        }
      ]
    },
    {
      "cell_type": "markdown",
      "metadata": {
        "id": "gNdn7ledksaq"
      },
      "source": [
        "#### 12. Print the 4 corner pixels of the matrix"
      ]
    },
    {
      "cell_type": "code",
      "metadata": {
        "id": "ajEUKKFOksa2",
        "colab": {
          "base_uri": "https://localhost:8080/"
        },
        "outputId": "608d6da2-fa90-4fb7-80ab-476163a252a6"
      },
      "source": [
        "\n",
        "rowcount = np.array(np_mat1.shape)\n",
        "rowMax = rowcount[0]-1 \n",
        "colMax = rowcount[1]-1 \n",
        "print(str(np_mat1))\n",
        "print('top left',str(np_mat1[0,0]))\n",
        "print('top Right',str(np_mat1[0,rowMax]))\n",
        "print('bottom left',str(np_mat1[colMax,0]))\n",
        "print('bottom Right',str(np_mat1[rowMax,colMax]))\n"
      ],
      "execution_count": 12,
      "outputs": [
        {
          "output_type": "stream",
          "name": "stdout",
          "text": [
            "[[ 9 25 50 34 45]\n",
            " [ 3 34 34 65  2]\n",
            " [ 5  7  3 76  3]\n",
            " [ 7  8  6 54  6]\n",
            " [23 12  8  5  8]]\n",
            "top left 9\n",
            "top Right 45\n",
            "bottom left 23\n",
            "bottom Right 8\n"
          ]
        }
      ]
    },
    {
      "cell_type": "markdown",
      "metadata": {
        "id": "I7d8KTwNksa3"
      },
      "source": [
        "#### 13. Create three matrix m1,m2,m3 with the elements grouped in the figure below\n",
        "<img src = \"np_mat2.png\">"
      ]
    },
    {
      "cell_type": "code",
      "metadata": {
        "id": "7kqrsOIkksa3",
        "colab": {
          "base_uri": "https://localhost:8080/"
        },
        "outputId": "60bc056e-3382-493a-bfc4-ba63eece2d97"
      },
      "source": [
        "m1 = np_mat1[:2,2:4]\n",
        "print('m1 = '+str(m1))\n",
        "m2 = np_mat1[3:5,0:2]\n",
        "print('m2 = '+str(m2))\n",
        "m3 = np_mat1[2:5,2:5]\n",
        "print('m3 = '+str(m3))\n"
      ],
      "execution_count": 13,
      "outputs": [
        {
          "output_type": "stream",
          "name": "stdout",
          "text": [
            "m1 = [[50 34]\n",
            " [34 65]]\n",
            "m2 = [[ 7  8]\n",
            " [23 12]]\n",
            "m3 = [[ 3 76  3]\n",
            " [ 6 54  6]\n",
            " [ 8  5  8]]\n"
          ]
        }
      ]
    },
    {
      "cell_type": "markdown",
      "metadata": {
        "id": "HdGA1Mk_ksa4"
      },
      "source": [
        "#### 14. Reshape all the three matrix segmented in the above task in to three  1-dimensional vector."
      ]
    },
    {
      "cell_type": "code",
      "metadata": {
        "id": "iQBx59fzksa4",
        "colab": {
          "base_uri": "https://localhost:8080/"
        },
        "outputId": "ce006c1c-5b69-41c4-8c49-6e3330eb5594"
      },
      "source": [
        "print('After Reshape') \n",
        "print(m1.reshape(1,4))\n",
        "print(m2.reshape(1,4))\n",
        "print(m3.reshape(1,9))\n",
        "\n"
      ],
      "execution_count": 14,
      "outputs": [
        {
          "output_type": "stream",
          "name": "stdout",
          "text": [
            "After Reshape\n",
            "[[50 34 34 65]]\n",
            "[[ 7  8 23 12]]\n",
            "[[ 3 76  3  6 54  6  8  5  8]]\n"
          ]
        }
      ]
    },
    {
      "cell_type": "markdown",
      "metadata": {
        "id": "9C0wF2aVksa4"
      },
      "source": [
        "#### 15. Concatenate the matrix m1 and m2 in both vertical and horizontal direction"
      ]
    },
    {
      "cell_type": "code",
      "metadata": {
        "id": "bcPrV-NQksa5",
        "colab": {
          "base_uri": "https://localhost:8080/"
        },
        "outputId": "266a00b2-d85c-4b2a-a7a8-3e915ff0349b"
      },
      "source": [
        "print('Vertical'+str(np.concatenate((m1,m2),axis=0)))\n",
        "print('Horizontal'+str(np.concatenate((m1,m2),axis=1)))\n",
        "\n"
      ],
      "execution_count": 15,
      "outputs": [
        {
          "output_type": "stream",
          "name": "stdout",
          "text": [
            "Vertical[[50 34]\n",
            " [34 65]\n",
            " [ 7  8]\n",
            " [23 12]]\n",
            "Horizontal[[50 34  7  8]\n",
            " [34 65 23 12]]\n"
          ]
        }
      ]
    },
    {
      "cell_type": "markdown",
      "metadata": {
        "id": "AL8ZVdVAksa5"
      },
      "source": [
        "#### 16. Add, Subtract, multiply, divide the matrixes m1 and m2"
      ]
    },
    {
      "cell_type": "code",
      "metadata": {
        "id": "FtubfPvuksa5",
        "colab": {
          "base_uri": "https://localhost:8080/"
        },
        "outputId": "cc7b0518-8efe-4de0-fedd-87d2b255c393"
      },
      "source": [
        "print(m1)\n",
        "print(m2)\n",
        "addmatrix = m1+m2\n",
        "print('Addition'+str(addmatrix))\n",
        "submatrix = m1-m2\n",
        "print('Subtraction'+str(submatrix))\n",
        "submatrix = m1/m2\n",
        "print('division'+str(submatrix))\n"
      ],
      "execution_count": 16,
      "outputs": [
        {
          "output_type": "stream",
          "name": "stdout",
          "text": [
            "[[50 34]\n",
            " [34 65]]\n",
            "[[ 7  8]\n",
            " [23 12]]\n",
            "Addition[[57 42]\n",
            " [57 77]]\n",
            "Subtraction[[43 26]\n",
            " [11 53]]\n",
            "division[[7.14285714 4.25      ]\n",
            " [1.47826087 5.41666667]]\n"
          ]
        }
      ]
    },
    {
      "cell_type": "markdown",
      "metadata": {
        "id": "VrDJq57yksa6"
      },
      "source": [
        "#### 17. Add the m1 with m3 by removing the first row and last column of m3"
      ]
    },
    {
      "cell_type": "code",
      "metadata": {
        "id": "MfeuHZZxksa6",
        "colab": {
          "base_uri": "https://localhost:8080/"
        },
        "outputId": "d3b50d53-1bab-46d0-8a87-826314514ebf"
      },
      "source": [
        "print(m3)\n",
        "print(m1)\n",
        "m3[1:,:2] + m1\n",
        "\n",
        "\n",
        "\n"
      ],
      "execution_count": 18,
      "outputs": [
        {
          "output_type": "stream",
          "name": "stdout",
          "text": [
            "[[ 3 76  3]\n",
            " [ 6 54  6]\n",
            " [ 8  5  8]]\n",
            "[[50 34]\n",
            " [34 65]]\n"
          ]
        },
        {
          "output_type": "execute_result",
          "data": {
            "text/plain": [
              "array([[56, 88],\n",
              "       [42, 70]])"
            ]
          },
          "metadata": {},
          "execution_count": 18
        }
      ]
    },
    {
      "cell_type": "markdown",
      "metadata": {
        "id": "Y8mu_6HSksa7"
      },
      "source": [
        "#### 18. Form the matrix m4 by concatenating (as a new row) the vector [me1, me2] with the matrix m1, where me1 and me2 are the mean values of each column on m1."
      ]
    },
    {
      "cell_type": "code",
      "metadata": {
        "id": "b5HMUUIRksa7",
        "colab": {
          "base_uri": "https://localhost:8080/"
        },
        "outputId": "4d46fd06-cd4a-4547-e798-39e65f1b2790"
      },
      "source": [
        "m4 = m1.mean(axis=0)\n",
        "m4 = m4.reshape(1,2)\n",
        "m4 = np.concatenate((m1,m4),axis=0)\n",
        "m4"
      ],
      "execution_count": 17,
      "outputs": [
        {
          "output_type": "execute_result",
          "data": {
            "text/plain": [
              "array([[50. , 34. ],\n",
              "       [34. , 65. ],\n",
              "       [42. , 49.5]])"
            ]
          },
          "metadata": {},
          "execution_count": 17
        }
      ]
    },
    {
      "cell_type": "markdown",
      "metadata": {
        "id": "5Leb85QAksa7"
      },
      "source": [
        "#### 19. Perform the matrix multiplication between m3 and m4"
      ]
    },
    {
      "cell_type": "code",
      "metadata": {
        "id": "Itk6A12uksa8",
        "colab": {
          "base_uri": "https://localhost:8080/"
        },
        "outputId": "1bfc9a14-d9d7-4c6c-9680-184cdb029a30"
      },
      "source": [
        "emtMatrix = np.array([[1],[1],[1]])\n",
        "newm4 = np.concatenate((m4,emtMatrix),axis=1)\n",
        "m3*newm4.astype(int)\n"
      ],
      "execution_count": 19,
      "outputs": [
        {
          "output_type": "execute_result",
          "data": {
            "text/plain": [
              "array([[ 150, 2584,    3],\n",
              "       [ 204, 3510,    6],\n",
              "       [ 336,  245,    8]])"
            ]
          },
          "metadata": {},
          "execution_count": 19
        }
      ]
    },
    {
      "cell_type": "markdown",
      "metadata": {
        "id": "9fZpWes9ksa8"
      },
      "source": [
        "#### 20. Compute the maximum and minimum value of mean, variance, standard deviation for each row of matrix created in question number 8."
      ]
    },
    {
      "cell_type": "code",
      "metadata": {
        "id": "X5Io1ci6ksa9",
        "colab": {
          "base_uri": "https://localhost:8080/"
        },
        "outputId": "c3ac223e-ff90-4e0a-ddf2-3597c769796f"
      },
      "source": [
        "print('Mean',str(np_mat1.mean(axis=1)))\n",
        "print('Variance',str(np_mat1.var(axis=1)))\n",
        "print('Standard Deviation',str(np_mat1.std(axis=1)))\n"
      ],
      "execution_count": 20,
      "outputs": [
        {
          "output_type": "stream",
          "name": "stdout",
          "text": [
            "Mean [32.6 27.6 18.8 16.2 11.2]\n",
            "Variance [214.64 548.24 820.16 357.76  39.76]\n",
            "Standard Deviation [14.65059726 23.41452541 28.63843571 18.91454467  6.30555311]\n"
          ]
        }
      ]
    },
    {
      "cell_type": "markdown",
      "metadata": {
        "id": "hLNG0lIGksa9"
      },
      "source": [
        "#### 21. Compute the average and strike rate for each player and sort it decending way (seperately for avg and strike rate)\n",
        "<img src = 'crick1.png'>"
      ]
    },
    {
      "cell_type": "code",
      "metadata": {
        "id": "W67LAPgOksa9",
        "colab": {
          "base_uri": "https://localhost:8080/"
        },
        "outputId": "dcb48d7d-65c4-4eb6-efce-36985d3ec48a"
      },
      "source": [
        "runs = np.array([[54,60,10,65],[102,2,78,32],[3,110,1,92],[56,6,12,42],[12,8,22,11]])  \n",
        "balls = np.array([[50,42,22,78],[95,8,65,43],[9,100,7,101],[27,3,11,31],[24,20,36,27]]) \n",
        "players = np.array(['MSD','Kholi','Rohit','Rahul','Dhawan'])\n",
        "battingAvg = runs.mean(axis=1)\n",
        "avgstrRate = runs/balls * 100\n",
        "strRate = np.round(avgstrRate.mean(axis=1),2)\n",
        "strRate = strRate.reshape(5,1)\n",
        "players = players.reshape(5,1)\n",
        "battingAvg = battingAvg.reshape(5,1)\n",
        "result = np.concatenate((battingAvg,strRate),axis=1)\n",
        "print('Sort By Average')\n",
        "print(np.concatenate((players[result[:,0].argsort()][::-1],result[result[:,0].argsort()][::-1]),axis=1))\n",
        "print('Sort By StrikeRate')\n",
        "print(np.concatenate((players[result[:,1].argsort()][::-1],result[result[:,1].argsort()][::-1]),axis=1))"
      ],
      "execution_count": 21,
      "outputs": [
        {
          "output_type": "stream",
          "name": "stdout",
          "text": [
            "Sort By Average\n",
            "[['Kholi' '53.5' '81.7']\n",
            " ['Rohit' '51.5' '62.18']\n",
            " ['MSD' '47.25' '94.91']\n",
            " ['Rahul' '29.0' '163.0']\n",
            " ['Dhawan' '13.25' '47.96']]\n",
            "Sort By StrikeRate\n",
            "[['Rahul' '29.0' '163.0']\n",
            " ['MSD' '47.25' '94.91']\n",
            " ['Kholi' '53.5' '81.7']\n",
            " ['Rohit' '51.5' '62.18']\n",
            " ['Dhawan' '13.25' '47.96']]\n"
          ]
        }
      ]
    },
    {
      "cell_type": "markdown",
      "metadata": {
        "id": "zssRRpkPksbX"
      },
      "source": [
        "#### 22. The students mark was recorded in a numpy array: marks = np.array([65,84,47,56,89,98,48,77,80,39]).  Cutoff for pass is 50 marks. Write the logic to print the number of students passed and failed. "
      ]
    },
    {
      "cell_type": "code",
      "metadata": {
        "id": "e_8QK_wLksbX",
        "colab": {
          "base_uri": "https://localhost:8080/"
        },
        "outputId": "d84fc9a6-7591-4950-809d-3a45aceb59fe"
      },
      "source": [
        "marks = np.array([65,84,47,56,89,98,48,77,80,39])\n",
        "print(\"Totaly \"+str(len(marks[marks<50])) + ' Students FAIL and ' +str(len(marks[marks>50]))+' Students PASS')\n"
      ],
      "execution_count": 22,
      "outputs": [
        {
          "output_type": "stream",
          "name": "stdout",
          "text": [
            "Totaly 3 Students FAIL and 7 Students PASS\n"
          ]
        }
      ]
    },
    {
      "cell_type": "markdown",
      "metadata": {
        "id": "i_v-5cSIksbY"
      },
      "source": [
        "#### 23. The class incharge decided to give a mercy mark of 5 for those who scored between 45 and 49. Also the bonus of 5 marks awarded to the students who scored more than 80. Print all the student marks and compute the increase in the pass percentage of class. Any score more than 100 must be recorded as only 100."
      ]
    },
    {
      "cell_type": "code",
      "metadata": {
        "id": "ywq2pYm_ksbY",
        "colab": {
          "base_uri": "https://localhost:8080/"
        },
        "outputId": "0f68e24d-6cf7-44e0-96c3-c5f3c590fb60"
      },
      "source": [
        "marks = np.array([65,84,47,56,89,98,48,77,80,39])\n",
        "for index,mark in enumerate(marks):\n",
        "  if mark > 79 and mark < 95:\n",
        "    marks[index] = mark+5\n",
        "  if mark > 44 and mark < 50:\n",
        "    marks[index] = mark+5  \n",
        "  if mark > 94:\n",
        "    marks[index] = 100  \n",
        "print(\"Totaly \"+str(len(marks[marks<50])) + ' Students FAIL and ' +str(len(marks[marks>50]))+' Students PASS')\n",
        "print('Marks'+str(marks))"
      ],
      "execution_count": 23,
      "outputs": [
        {
          "output_type": "stream",
          "name": "stdout",
          "text": [
            "Totaly 1 Students FAIL and 9 Students PASS\n",
            "Marks[ 65  89  52  56  94 100  53  77  85  39]\n"
          ]
        }
      ]
    },
    {
      "cell_type": "markdown",
      "metadata": {
        "id": "P1y6yel3ksbY"
      },
      "source": [
        "#### 24. Print the time taken for performing the following operation using list and numpy array\n",
        "####       (x(i)^2 +8) / y(i),   where x and y are real integers from 1 to 60000"
      ]
    },
    {
      "cell_type": "code",
      "metadata": {
        "id": "Lrdl8ewjksbZ",
        "colab": {
          "base_uri": "https://localhost:8080/"
        },
        "outputId": "ea34fe85-519d-4410-9053-d2d93b6030ce"
      },
      "source": [
        "import time\n",
        "np.random.seed(100)\n",
        "x = np.random.randint(1,60000,60000)\n",
        "y = np.random.randint(1,60000,60000)\n",
        "timer_list = list([])\n",
        "for i,j in zip(x,y):\n",
        "  start_time = time.time()\n",
        "  (i**2 +8) / j\n",
        "  timer_list.append(time.time()-start_time)\n",
        "timer_list"
      ],
      "execution_count": 24,
      "outputs": [
        {
          "output_type": "execute_result",
          "data": {
            "text/plain": [
              "[9.5367431640625e-06,\n",
              " 2.1457672119140625e-06,\n",
              " 1.6689300537109375e-06,\n",
              " 1.1920928955078125e-06,\n",
              " 1.6689300537109375e-06,\n",
              " 1.1920928955078125e-06,\n",
              " 1.1920928955078125e-06,\n",
              " 1.6689300537109375e-06,\n",
              " 1.430511474609375e-06,\n",
              " 1.1920928955078125e-06,\n",
              " 1.430511474609375e-06,\n",
              " 1.1920928955078125e-06,\n",
              " 1.1920928955078125e-06,\n",
              " 1.6689300537109375e-06,\n",
              " 1.1920928955078125e-06,\n",
              " 1.430511474609375e-06,\n",
              " 1.1920928955078125e-06,\n",
              " 1.9073486328125e-06,\n",
              " 1.6689300537109375e-06,\n",
              " 1.1920928955078125e-06,\n",
              " 1.430511474609375e-06,\n",
              " 1.1920928955078125e-06,\n",
              " 1.1920928955078125e-06,\n",
              " 9.5367431640625e-07,\n",
              " 1.1920928955078125e-06,\n",
              " 9.5367431640625e-07,\n",
              " 1.430511474609375e-06,\n",
              " 1.6689300537109375e-06,\n",
              " 1.1920928955078125e-06,\n",
              " 1.430511474609375e-06,\n",
              " 1.430511474609375e-06,\n",
              " 1.1920928955078125e-06,\n",
              " 1.430511474609375e-06,\n",
              " 1.430511474609375e-06,\n",
              " 1.1920928955078125e-06,\n",
              " 1.6689300537109375e-06,\n",
              " 1.1920928955078125e-06,\n",
              " 1.1920928955078125e-06,\n",
              " 1.1920928955078125e-06,\n",
              " 1.1920928955078125e-06,\n",
              " 1.430511474609375e-06,\n",
              " 1.1920928955078125e-06,\n",
              " 1.430511474609375e-06,\n",
              " 1.6689300537109375e-06,\n",
              " 1.1920928955078125e-06,\n",
              " 9.5367431640625e-07,\n",
              " 1.4781951904296875e-05,\n",
              " 1.430511474609375e-06,\n",
              " 1.430511474609375e-06,\n",
              " 1.1920928955078125e-06,\n",
              " 1.430511474609375e-06,\n",
              " 1.6689300537109375e-06,\n",
              " 1.1920928955078125e-06,\n",
              " 1.430511474609375e-06,\n",
              " 9.5367431640625e-07,\n",
              " 1.1920928955078125e-06,\n",
              " 9.5367431640625e-07,\n",
              " 1.1920928955078125e-06,\n",
              " 1.1920928955078125e-06,\n",
              " 1.430511474609375e-06,\n",
              " 1.430511474609375e-06,\n",
              " 1.1920928955078125e-06,\n",
              " 1.430511474609375e-06,\n",
              " 1.430511474609375e-06,\n",
              " 1.430511474609375e-06,\n",
              " 1.1920928955078125e-06,\n",
              " 1.1920928955078125e-06,\n",
              " 1.430511474609375e-06,\n",
              " 1.1920928955078125e-06,\n",
              " 1.1920928955078125e-06,\n",
              " 1.6689300537109375e-06,\n",
              " 1.1920928955078125e-06,\n",
              " 1.6689300537109375e-06,\n",
              " 1.1920928955078125e-06,\n",
              " 9.5367431640625e-07,\n",
              " 1.430511474609375e-06,\n",
              " 1.1920928955078125e-06,\n",
              " 1.430511474609375e-06,\n",
              " 1.430511474609375e-06,\n",
              " 1.1920928955078125e-06,\n",
              " 1.6689300537109375e-06,\n",
              " 9.5367431640625e-07,\n",
              " 1.430511474609375e-06,\n",
              " 1.1920928955078125e-06,\n",
              " 1.1920928955078125e-06,\n",
              " 1.1920928955078125e-06,\n",
              " 1.430511474609375e-06,\n",
              " 1.1920928955078125e-06,\n",
              " 1.1920928955078125e-06,\n",
              " 1.430511474609375e-06,\n",
              " 9.5367431640625e-07,\n",
              " 1.430511474609375e-06,\n",
              " 1.430511474609375e-06,\n",
              " 1.430511474609375e-06,\n",
              " 9.5367431640625e-07,\n",
              " 1.1920928955078125e-06,\n",
              " 1.6689300537109375e-06,\n",
              " 1.1920928955078125e-06,\n",
              " 1.430511474609375e-06,\n",
              " 1.6689300537109375e-06,\n",
              " 1.1920928955078125e-06,\n",
              " 1.430511474609375e-06,\n",
              " 1.1920928955078125e-06,\n",
              " 9.5367431640625e-07,\n",
              " 9.5367431640625e-07,\n",
              " 1.1920928955078125e-06,\n",
              " 1.6689300537109375e-06,\n",
              " 1.9073486328125e-06,\n",
              " 1.6689300537109375e-06,\n",
              " 1.6689300537109375e-06,\n",
              " 1.1920928955078125e-06,\n",
              " 1.430511474609375e-06,\n",
              " 1.430511474609375e-06,\n",
              " 1.430511474609375e-06,\n",
              " 9.5367431640625e-07,\n",
              " 1.1920928955078125e-06,\n",
              " 9.5367431640625e-07,\n",
              " 1.6689300537109375e-06,\n",
              " 1.430511474609375e-06,\n",
              " 1.1920928955078125e-06,\n",
              " 9.5367431640625e-07,\n",
              " 9.5367431640625e-07,\n",
              " 9.5367431640625e-07,\n",
              " 1.1920928955078125e-06,\n",
              " 1.430511474609375e-06,\n",
              " 1.6689300537109375e-06,\n",
              " 1.6689300537109375e-06,\n",
              " 1.6689300537109375e-06,\n",
              " 1.430511474609375e-06,\n",
              " 1.430511474609375e-06,\n",
              " 1.430511474609375e-06,\n",
              " 1.1920928955078125e-06,\n",
              " 1.430511474609375e-06,\n",
              " 1.430511474609375e-06,\n",
              " 9.5367431640625e-07,\n",
              " 1.430511474609375e-06,\n",
              " 1.1920928955078125e-06,\n",
              " 1.430511474609375e-06,\n",
              " 1.430511474609375e-06,\n",
              " 1.430511474609375e-06,\n",
              " 1.430511474609375e-06,\n",
              " 0.0015697479248046875,\n",
              " 4.76837158203125e-06,\n",
              " 1.1920928955078125e-06,\n",
              " 1.430511474609375e-06,\n",
              " 1.430511474609375e-06,\n",
              " 1.1920928955078125e-06,\n",
              " 1.6689300537109375e-06,\n",
              " 1.1920928955078125e-06,\n",
              " 1.430511474609375e-06,\n",
              " 1.6689300537109375e-06,\n",
              " 1.430511474609375e-06,\n",
              " 1.1920928955078125e-06,\n",
              " 1.6689300537109375e-06,\n",
              " 1.9073486328125e-06,\n",
              " 1.430511474609375e-06,\n",
              " 1.9073486328125e-06,\n",
              " 1.6689300537109375e-06,\n",
              " 1.430511474609375e-06,\n",
              " 9.5367431640625e-07,\n",
              " 1.1920928955078125e-06,\n",
              " 1.430511474609375e-06,\n",
              " 1.430511474609375e-06,\n",
              " 1.6689300537109375e-06,\n",
              " 1.1920928955078125e-06,\n",
              " 1.6689300537109375e-06,\n",
              " 1.430511474609375e-06,\n",
              " 1.1920928955078125e-06,\n",
              " 1.430511474609375e-06,\n",
              " 1.1920928955078125e-06,\n",
              " 1.430511474609375e-06,\n",
              " 1.6689300537109375e-06,\n",
              " 1.430511474609375e-06,\n",
              " 1.1920928955078125e-06,\n",
              " 1.9073486328125e-06,\n",
              " 1.430511474609375e-06,\n",
              " 1.1920928955078125e-06,\n",
              " 1.430511474609375e-06,\n",
              " 1.430511474609375e-06,\n",
              " 1.1920928955078125e-06,\n",
              " 1.430511474609375e-06,\n",
              " 1.1920928955078125e-06,\n",
              " 1.430511474609375e-06,\n",
              " 1.430511474609375e-06,\n",
              " 1.430511474609375e-06,\n",
              " 1.430511474609375e-06,\n",
              " 1.1920928955078125e-06,\n",
              " 1.430511474609375e-06,\n",
              " 1.430511474609375e-06,\n",
              " 1.430511474609375e-06,\n",
              " 1.6689300537109375e-06,\n",
              " 1.1920928955078125e-06,\n",
              " 1.430511474609375e-06,\n",
              " 1.6689300537109375e-06,\n",
              " 1.6689300537109375e-06,\n",
              " 9.5367431640625e-06,\n",
              " 1.430511474609375e-06,\n",
              " 1.430511474609375e-06,\n",
              " 1.1920928955078125e-06,\n",
              " 1.430511474609375e-06,\n",
              " 1.6689300537109375e-06,\n",
              " 1.430511474609375e-06,\n",
              " 1.6689300537109375e-06,\n",
              " 1.430511474609375e-06,\n",
              " 1.6689300537109375e-06,\n",
              " 1.6689300537109375e-06,\n",
              " 1.430511474609375e-06,\n",
              " 1.6689300537109375e-06,\n",
              " 1.9073486328125e-06,\n",
              " 1.430511474609375e-06,\n",
              " 1.1920928955078125e-06,\n",
              " 1.6689300537109375e-06,\n",
              " 1.430511474609375e-06,\n",
              " 1.6689300537109375e-06,\n",
              " 1.6689300537109375e-06,\n",
              " 1.430511474609375e-06,\n",
              " 1.6689300537109375e-06,\n",
              " 1.6689300537109375e-06,\n",
              " 1.430511474609375e-06,\n",
              " 1.430511474609375e-06,\n",
              " 1.6689300537109375e-06,\n",
              " 1.1920928955078125e-06,\n",
              " 1.430511474609375e-06,\n",
              " 1.1920928955078125e-06,\n",
              " 9.5367431640625e-07,\n",
              " 1.430511474609375e-06,\n",
              " 1.1920928955078125e-06,\n",
              " 1.1920928955078125e-06,\n",
              " 2.0265579223632812e-05,\n",
              " 1.6689300537109375e-06,\n",
              " 1.1920928955078125e-06,\n",
              " 1.1920928955078125e-06,\n",
              " 1.6689300537109375e-06,\n",
              " 1.9073486328125e-06,\n",
              " 1.6689300537109375e-06,\n",
              " 1.6689300537109375e-06,\n",
              " 1.430511474609375e-06,\n",
              " 1.6689300537109375e-06,\n",
              " 1.6689300537109375e-06,\n",
              " 1.6689300537109375e-06,\n",
              " 1.430511474609375e-06,\n",
              " 1.6689300537109375e-06,\n",
              " 1.430511474609375e-06,\n",
              " 1.430511474609375e-06,\n",
              " 1.430511474609375e-06,\n",
              " 1.430511474609375e-06,\n",
              " 1.430511474609375e-06,\n",
              " 1.9073486328125e-06,\n",
              " 1.430511474609375e-06,\n",
              " 1.430511474609375e-06,\n",
              " 1.6689300537109375e-06,\n",
              " 1.430511474609375e-06,\n",
              " 1.430511474609375e-06,\n",
              " 1.6689300537109375e-06,\n",
              " 1.430511474609375e-06,\n",
              " 1.430511474609375e-06,\n",
              " 1.6689300537109375e-06,\n",
              " 1.6689300537109375e-06,\n",
              " 1.430511474609375e-06,\n",
              " 1.430511474609375e-06,\n",
              " 1.6689300537109375e-06,\n",
              " 1.430511474609375e-06,\n",
              " 1.1920928955078125e-06,\n",
              " 1.6689300537109375e-06,\n",
              " 1.430511474609375e-06,\n",
              " 1.430511474609375e-06,\n",
              " 1.430511474609375e-06,\n",
              " 9.5367431640625e-07,\n",
              " 7.152557373046875e-07,\n",
              " 9.5367431640625e-07,\n",
              " 7.152557373046875e-07,\n",
              " 1.1920928955078125e-06,\n",
              " 7.152557373046875e-07,\n",
              " 7.152557373046875e-07,\n",
              " 7.152557373046875e-07,\n",
              " 7.152557373046875e-07,\n",
              " 9.5367431640625e-07,\n",
              " 9.5367431640625e-07,\n",
              " 7.152557373046875e-07,\n",
              " 9.5367431640625e-07,\n",
              " 7.152557373046875e-07,\n",
              " 7.152557373046875e-07,\n",
              " 7.152557373046875e-07,\n",
              " 7.152557373046875e-07,\n",
              " 9.5367431640625e-07,\n",
              " 7.152557373046875e-07,\n",
              " 7.152557373046875e-07,\n",
              " 9.5367431640625e-07,\n",
              " 9.5367431640625e-07,\n",
              " 9.5367431640625e-07,\n",
              " 7.152557373046875e-07,\n",
              " 7.152557373046875e-07,\n",
              " 7.152557373046875e-07,\n",
              " 7.152557373046875e-07,\n",
              " 7.152557373046875e-07,\n",
              " 9.5367431640625e-07,\n",
              " 9.5367431640625e-07,\n",
              " 9.5367431640625e-07,\n",
              " 1.1920928955078125e-06,\n",
              " 7.152557373046875e-07,\n",
              " 7.152557373046875e-07,\n",
              " 7.152557373046875e-07,\n",
              " 7.152557373046875e-07,\n",
              " 9.5367431640625e-07,\n",
              " 7.152557373046875e-07,\n",
              " 7.152557373046875e-07,\n",
              " 9.5367431640625e-07,\n",
              " 7.152557373046875e-07,\n",
              " 7.152557373046875e-07,\n",
              " 7.152557373046875e-07,\n",
              " 7.152557373046875e-07,\n",
              " 1.1920928955078125e-06,\n",
              " 7.152557373046875e-07,\n",
              " 7.152557373046875e-07,\n",
              " 7.152557373046875e-07,\n",
              " 7.152557373046875e-07,\n",
              " 7.152557373046875e-07,\n",
              " 7.152557373046875e-07,\n",
              " 7.152557373046875e-07,\n",
              " 9.5367431640625e-07,\n",
              " 7.152557373046875e-07,\n",
              " 7.152557373046875e-07,\n",
              " 9.5367431640625e-07,\n",
              " 7.152557373046875e-07,\n",
              " 7.152557373046875e-07,\n",
              " 7.152557373046875e-07,\n",
              " 7.152557373046875e-07,\n",
              " 1.1920928955078125e-06,\n",
              " 7.152557373046875e-07,\n",
              " 7.152557373046875e-07,\n",
              " 9.5367431640625e-07,\n",
              " 7.152557373046875e-07,\n",
              " 9.5367431640625e-07,\n",
              " 9.5367431640625e-07,\n",
              " 7.152557373046875e-07,\n",
              " 7.152557373046875e-07,\n",
              " 9.5367431640625e-07,\n",
              " 9.5367431640625e-07,\n",
              " 1.1920928955078125e-06,\n",
              " 7.152557373046875e-07,\n",
              " 7.152557373046875e-07,\n",
              " 9.5367431640625e-07,\n",
              " 7.152557373046875e-07,\n",
              " 7.152557373046875e-07,\n",
              " 7.152557373046875e-07,\n",
              " 7.152557373046875e-07,\n",
              " 7.152557373046875e-07,\n",
              " 7.152557373046875e-07,\n",
              " 7.152557373046875e-07,\n",
              " 9.5367431640625e-07,\n",
              " 9.5367431640625e-07,\n",
              " 9.5367431640625e-07,\n",
              " 1.1920928955078125e-06,\n",
              " 9.5367431640625e-07,\n",
              " 7.152557373046875e-07,\n",
              " 7.152557373046875e-07,\n",
              " 7.152557373046875e-07,\n",
              " 9.5367431640625e-07,\n",
              " 7.152557373046875e-07,\n",
              " 9.5367431640625e-07,\n",
              " 9.5367431640625e-07,\n",
              " 7.152557373046875e-07,\n",
              " 1.1920928955078125e-06,\n",
              " 7.152557373046875e-07,\n",
              " 7.152557373046875e-07,\n",
              " 7.152557373046875e-07,\n",
              " 7.152557373046875e-07,\n",
              " 9.5367431640625e-07,\n",
              " 7.152557373046875e-07,\n",
              " 7.152557373046875e-07,\n",
              " 9.5367431640625e-07,\n",
              " 9.5367431640625e-07,\n",
              " 7.152557373046875e-07,\n",
              " 9.5367431640625e-07,\n",
              " 9.5367431640625e-07,\n",
              " 1.1920928955078125e-06,\n",
              " 7.152557373046875e-07,\n",
              " 7.152557373046875e-07,\n",
              " 9.5367431640625e-07,\n",
              " 7.152557373046875e-07,\n",
              " 7.152557373046875e-07,\n",
              " 1.1920928955078125e-06,\n",
              " 9.5367431640625e-07,\n",
              " 9.5367431640625e-07,\n",
              " 1.1920928955078125e-06,\n",
              " 7.152557373046875e-07,\n",
              " 9.5367431640625e-07,\n",
              " 7.152557373046875e-07,\n",
              " 7.152557373046875e-07,\n",
              " 9.5367431640625e-07,\n",
              " 7.152557373046875e-07,\n",
              " 7.152557373046875e-07,\n",
              " 7.152557373046875e-07,\n",
              " 7.152557373046875e-07,\n",
              " 7.152557373046875e-07,\n",
              " 9.5367431640625e-07,\n",
              " 9.5367431640625e-07,\n",
              " 1.1920928955078125e-06,\n",
              " 7.152557373046875e-07,\n",
              " 7.152557373046875e-07,\n",
              " 9.5367431640625e-07,\n",
              " 7.152557373046875e-07,\n",
              " 7.152557373046875e-07,\n",
              " 1.1920928955078125e-06,\n",
              " 7.152557373046875e-07,\n",
              " 1.1920928955078125e-06,\n",
              " 7.152557373046875e-07,\n",
              " 7.152557373046875e-07,\n",
              " 9.5367431640625e-07,\n",
              " 7.152557373046875e-07,\n",
              " 7.152557373046875e-07,\n",
              " 7.152557373046875e-07,\n",
              " 7.152557373046875e-07,\n",
              " 7.152557373046875e-07,\n",
              " 7.152557373046875e-07,\n",
              " 7.152557373046875e-07,\n",
              " 9.5367431640625e-07,\n",
              " 7.152557373046875e-07,\n",
              " 7.152557373046875e-07,\n",
              " 9.5367431640625e-07,\n",
              " 9.5367431640625e-07,\n",
              " 9.5367431640625e-07,\n",
              " 7.152557373046875e-07,\n",
              " 9.5367431640625e-07,\n",
              " 9.5367431640625e-07,\n",
              " 7.152557373046875e-07,\n",
              " 7.152557373046875e-07,\n",
              " 9.5367431640625e-07,\n",
              " 7.152557373046875e-07,\n",
              " 7.152557373046875e-07,\n",
              " 9.5367431640625e-07,\n",
              " 7.152557373046875e-07,\n",
              " 7.152557373046875e-07,\n",
              " 7.152557373046875e-07,\n",
              " 7.152557373046875e-07,\n",
              " 9.5367431640625e-07,\n",
              " 7.152557373046875e-07,\n",
              " 9.5367431640625e-07,\n",
              " 1.1920928955078125e-06,\n",
              " 9.5367431640625e-07,\n",
              " 9.5367431640625e-07,\n",
              " 9.5367431640625e-07,\n",
              " 7.152557373046875e-07,\n",
              " 7.152557373046875e-07,\n",
              " 7.152557373046875e-07,\n",
              " 7.152557373046875e-07,\n",
              " 7.152557373046875e-07,\n",
              " 7.152557373046875e-07,\n",
              " 9.5367431640625e-07,\n",
              " 9.5367431640625e-07,\n",
              " 9.5367431640625e-07,\n",
              " 7.152557373046875e-07,\n",
              " 9.5367431640625e-07,\n",
              " 7.152557373046875e-07,\n",
              " 7.152557373046875e-07,\n",
              " 7.152557373046875e-07,\n",
              " 7.152557373046875e-07,\n",
              " 7.152557373046875e-07,\n",
              " 9.5367431640625e-07,\n",
              " 9.5367431640625e-07,\n",
              " 9.5367431640625e-07,\n",
              " 7.152557373046875e-07,\n",
              " 7.152557373046875e-07,\n",
              " 7.152557373046875e-07,\n",
              " 7.152557373046875e-07,\n",
              " 9.5367431640625e-07,\n",
              " 7.152557373046875e-07,\n",
              " 7.152557373046875e-07,\n",
              " 1.1920928955078125e-06,\n",
              " 9.5367431640625e-07,\n",
              " 7.152557373046875e-07,\n",
              " 9.5367431640625e-07,\n",
              " 7.152557373046875e-07,\n",
              " 7.152557373046875e-07,\n",
              " 7.152557373046875e-07,\n",
              " 7.152557373046875e-07,\n",
              " 7.152557373046875e-07,\n",
              " 7.152557373046875e-07,\n",
              " 7.152557373046875e-07,\n",
              " 9.5367431640625e-07,\n",
              " 7.152557373046875e-07,\n",
              " 7.152557373046875e-07,\n",
              " 9.5367431640625e-07,\n",
              " 7.152557373046875e-07,\n",
              " 7.152557373046875e-07,\n",
              " 9.5367431640625e-07,\n",
              " 9.5367431640625e-07,\n",
              " 9.5367431640625e-07,\n",
              " 7.152557373046875e-07,\n",
              " 7.152557373046875e-07,\n",
              " 7.152557373046875e-07,\n",
              " 7.152557373046875e-07,\n",
              " 7.152557373046875e-07,\n",
              " 7.152557373046875e-07,\n",
              " 7.152557373046875e-07,\n",
              " 9.5367431640625e-07,\n",
              " 7.152557373046875e-07,\n",
              " 7.152557373046875e-07,\n",
              " 9.5367431640625e-07,\n",
              " 7.152557373046875e-07,\n",
              " 7.152557373046875e-07,\n",
              " 7.152557373046875e-07,\n",
              " 7.152557373046875e-07,\n",
              " 7.152557373046875e-07,\n",
              " 7.152557373046875e-07,\n",
              " 7.152557373046875e-07,\n",
              " 7.152557373046875e-07,\n",
              " 7.152557373046875e-07,\n",
              " 9.5367431640625e-07,\n",
              " 1.1920928955078125e-06,\n",
              " 7.152557373046875e-07,\n",
              " 7.152557373046875e-07,\n",
              " 9.5367431640625e-07,\n",
              " 7.152557373046875e-07,\n",
              " 7.152557373046875e-07,\n",
              " 7.152557373046875e-07,\n",
              " 7.152557373046875e-07,\n",
              " 7.152557373046875e-07,\n",
              " 7.152557373046875e-07,\n",
              " 7.152557373046875e-07,\n",
              " 9.5367431640625e-07,\n",
              " 7.152557373046875e-07,\n",
              " 7.152557373046875e-07,\n",
              " 7.152557373046875e-07,\n",
              " 7.152557373046875e-07,\n",
              " 9.5367431640625e-07,\n",
              " 7.152557373046875e-07,\n",
              " 7.152557373046875e-07,\n",
              " 9.5367431640625e-07,\n",
              " 7.152557373046875e-07,\n",
              " 7.152557373046875e-07,\n",
              " 7.152557373046875e-07,\n",
              " 9.5367431640625e-07,\n",
              " 1.1920928955078125e-06,\n",
              " 7.152557373046875e-07,\n",
              " 7.152557373046875e-07,\n",
              " 9.5367431640625e-07,\n",
              " 7.152557373046875e-07,\n",
              " 7.152557373046875e-07,\n",
              " 1.1920928955078125e-06,\n",
              " 9.5367431640625e-07,\n",
              " 9.5367431640625e-07,\n",
              " 7.152557373046875e-07,\n",
              " 7.152557373046875e-07,\n",
              " 9.5367431640625e-07,\n",
              " 7.152557373046875e-07,\n",
              " 7.152557373046875e-07,\n",
              " 9.5367431640625e-07,\n",
              " 9.5367431640625e-07,\n",
              " 9.5367431640625e-07,\n",
              " 7.152557373046875e-07,\n",
              " 7.152557373046875e-07,\n",
              " 7.152557373046875e-07,\n",
              " 7.152557373046875e-07,\n",
              " 7.152557373046875e-07,\n",
              " 9.5367431640625e-07,\n",
              " 7.152557373046875e-07,\n",
              " 7.152557373046875e-07,\n",
              " 9.5367431640625e-07,\n",
              " 7.152557373046875e-07,\n",
              " 7.152557373046875e-07,\n",
              " 7.152557373046875e-07,\n",
              " 7.152557373046875e-07,\n",
              " 7.152557373046875e-07,\n",
              " 7.152557373046875e-07,\n",
              " 7.152557373046875e-07,\n",
              " 9.5367431640625e-07,\n",
              " 7.152557373046875e-07,\n",
              " 7.152557373046875e-07,\n",
              " 9.5367431640625e-07,\n",
              " 9.5367431640625e-07,\n",
              " 9.5367431640625e-07,\n",
              " 9.5367431640625e-07,\n",
              " 7.152557373046875e-07,\n",
              " 7.152557373046875e-07,\n",
              " 7.152557373046875e-07,\n",
              " 7.152557373046875e-07,\n",
              " 9.5367431640625e-07,\n",
              " 7.152557373046875e-07,\n",
              " 7.152557373046875e-07,\n",
              " 9.5367431640625e-07,\n",
              " 7.152557373046875e-07,\n",
              " 7.152557373046875e-07,\n",
              " 7.152557373046875e-07,\n",
              " 7.152557373046875e-07,\n",
              " 7.152557373046875e-07,\n",
              " 7.152557373046875e-07,\n",
              " 9.5367431640625e-07,\n",
              " 9.5367431640625e-07,\n",
              " 9.5367431640625e-07,\n",
              " 9.5367431640625e-07,\n",
              " 9.5367431640625e-07,\n",
              " 7.152557373046875e-07,\n",
              " 7.152557373046875e-07,\n",
              " 7.152557373046875e-07,\n",
              " 7.152557373046875e-07,\n",
              " 7.152557373046875e-07,\n",
              " 9.5367431640625e-07,\n",
              " 7.152557373046875e-07,\n",
              " 9.5367431640625e-07,\n",
              " 7.152557373046875e-07,\n",
              " 9.5367431640625e-07,\n",
              " 7.152557373046875e-07,\n",
              " 7.152557373046875e-07,\n",
              " 9.5367431640625e-07,\n",
              " 7.152557373046875e-07,\n",
              " 7.152557373046875e-07,\n",
              " 7.152557373046875e-07,\n",
              " 7.152557373046875e-07,\n",
              " 7.152557373046875e-07,\n",
              " 9.5367431640625e-07,\n",
              " 9.5367431640625e-07,\n",
              " 1.1920928955078125e-06,\n",
              " 7.152557373046875e-07,\n",
              " 7.152557373046875e-07,\n",
              " 7.152557373046875e-07,\n",
              " 7.152557373046875e-07,\n",
              " 9.5367431640625e-07,\n",
              " 7.152557373046875e-07,\n",
              " 7.152557373046875e-07,\n",
              " 9.5367431640625e-07,\n",
              " 7.152557373046875e-07,\n",
              " 7.152557373046875e-07,\n",
              " 7.152557373046875e-07,\n",
              " 7.152557373046875e-07,\n",
              " 1.1920928955078125e-06,\n",
              " 7.152557373046875e-07,\n",
              " 9.5367431640625e-07,\n",
              " 1.1920928955078125e-06,\n",
              " 7.152557373046875e-07,\n",
              " 7.152557373046875e-07,\n",
              " 9.5367431640625e-07,\n",
              " 7.152557373046875e-07,\n",
              " 7.152557373046875e-07,\n",
              " 7.152557373046875e-07,\n",
              " 7.152557373046875e-07,\n",
              " 9.5367431640625e-07,\n",
              " 7.152557373046875e-07,\n",
              " 7.152557373046875e-07,\n",
              " 9.5367431640625e-07,\n",
              " 7.152557373046875e-07,\n",
              " 7.152557373046875e-06,\n",
              " 9.5367431640625e-07,\n",
              " 7.152557373046875e-07,\n",
              " 7.152557373046875e-07,\n",
              " 9.5367431640625e-07,\n",
              " 7.152557373046875e-07,\n",
              " 7.152557373046875e-07,\n",
              " 9.5367431640625e-07,\n",
              " 9.5367431640625e-07,\n",
              " 9.5367431640625e-07,\n",
              " 7.152557373046875e-07,\n",
              " 7.152557373046875e-07,\n",
              " 9.5367431640625e-07,\n",
              " 9.5367431640625e-07,\n",
              " 7.152557373046875e-07,\n",
              " 9.5367431640625e-07,\n",
              " 7.152557373046875e-07,\n",
              " 7.152557373046875e-07,\n",
              " 7.152557373046875e-07,\n",
              " 7.152557373046875e-07,\n",
              " 9.5367431640625e-07,\n",
              " 7.152557373046875e-07,\n",
              " 7.152557373046875e-07,\n",
              " 9.5367431640625e-07,\n",
              " 7.152557373046875e-07,\n",
              " 7.152557373046875e-07,\n",
              " 7.152557373046875e-07,\n",
              " 7.152557373046875e-07,\n",
              " 1.1920928955078125e-06,\n",
              " 7.152557373046875e-07,\n",
              " 7.152557373046875e-07,\n",
              " 9.5367431640625e-07,\n",
              " 9.5367431640625e-07,\n",
              " 9.5367431640625e-07,\n",
              " 1.1920928955078125e-06,\n",
              " 7.152557373046875e-07,\n",
              " 7.152557373046875e-07,\n",
              " 7.152557373046875e-07,\n",
              " 7.152557373046875e-07,\n",
              " 9.5367431640625e-07,\n",
              " 7.152557373046875e-07,\n",
              " 7.152557373046875e-07,\n",
              " 9.5367431640625e-07,\n",
              " 7.152557373046875e-07,\n",
              " 7.152557373046875e-07,\n",
              " 9.5367431640625e-07,\n",
              " 7.152557373046875e-07,\n",
              " 7.152557373046875e-07,\n",
              " 7.152557373046875e-07,\n",
              " 7.152557373046875e-07,\n",
              " 1.1920928955078125e-06,\n",
              " 7.152557373046875e-07,\n",
              " 7.152557373046875e-07,\n",
              " 9.5367431640625e-07,\n",
              " 7.152557373046875e-07,\n",
              " 7.152557373046875e-07,\n",
              " 9.5367431640625e-07,\n",
              " 9.5367431640625e-07,\n",
              " 1.1920928955078125e-06,\n",
              " 7.152557373046875e-07,\n",
              " 7.152557373046875e-07,\n",
              " 9.5367431640625e-07,\n",
              " 7.152557373046875e-07,\n",
              " 7.152557373046875e-07,\n",
              " 9.5367431640625e-07,\n",
              " 9.5367431640625e-07,\n",
              " 1.1920928955078125e-06,\n",
              " 7.152557373046875e-07,\n",
              " 7.152557373046875e-07,\n",
              " 9.5367431640625e-07,\n",
              " 9.5367431640625e-07,\n",
              " 7.152557373046875e-07,\n",
              " 7.152557373046875e-07,\n",
              " 7.152557373046875e-07,\n",
              " 9.5367431640625e-07,\n",
              " 7.152557373046875e-07,\n",
              " 7.152557373046875e-07,\n",
              " 9.5367431640625e-07,\n",
              " 7.152557373046875e-07,\n",
              " 9.5367431640625e-07,\n",
              " 7.152557373046875e-07,\n",
              " 7.152557373046875e-07,\n",
              " 1.1920928955078125e-06,\n",
              " 9.5367431640625e-07,\n",
              " 7.152557373046875e-07,\n",
              " 9.5367431640625e-07,\n",
              " 7.152557373046875e-07,\n",
              " 7.152557373046875e-07,\n",
              " 9.5367431640625e-07,\n",
              " 7.152557373046875e-07,\n",
              " 7.152557373046875e-07,\n",
              " 7.152557373046875e-07,\n",
              " 7.152557373046875e-07,\n",
              " 9.5367431640625e-07,\n",
              " 9.5367431640625e-07,\n",
              " 7.152557373046875e-07,\n",
              " 1.1920928955078125e-06,\n",
              " 9.5367431640625e-07,\n",
              " 9.5367431640625e-07,\n",
              " 7.152557373046875e-07,\n",
              " 7.152557373046875e-07,\n",
              " 9.5367431640625e-07,\n",
              " 7.152557373046875e-07,\n",
              " 7.152557373046875e-07,\n",
              " 9.5367431640625e-07,\n",
              " 7.152557373046875e-07,\n",
              " 7.152557373046875e-07,\n",
              " 9.5367431640625e-07,\n",
              " 7.152557373046875e-07,\n",
              " 7.152557373046875e-07,\n",
              " 7.152557373046875e-07,\n",
              " 7.152557373046875e-07,\n",
              " 9.5367431640625e-07,\n",
              " 7.152557373046875e-07,\n",
              " 7.152557373046875e-07,\n",
              " 9.5367431640625e-07,\n",
              " 7.152557373046875e-07,\n",
              " 9.5367431640625e-07,\n",
              " 7.152557373046875e-07,\n",
              " 9.5367431640625e-07,\n",
              " 1.1920928955078125e-06,\n",
              " 9.5367431640625e-07,\n",
              " 7.152557373046875e-07,\n",
              " 9.5367431640625e-07,\n",
              " 7.152557373046875e-07,\n",
              " 7.152557373046875e-07,\n",
              " 9.5367431640625e-07,\n",
              " 7.152557373046875e-07,\n",
              " 7.152557373046875e-07,\n",
              " 7.152557373046875e-07,\n",
              " 7.152557373046875e-07,\n",
              " 7.152557373046875e-07,\n",
              " 7.152557373046875e-07,\n",
              " 9.5367431640625e-07,\n",
              " 7.152557373046875e-07,\n",
              " 7.152557373046875e-07,\n",
              " 9.5367431640625e-07,\n",
              " 7.152557373046875e-07,\n",
              " 7.152557373046875e-07,\n",
              " 7.152557373046875e-07,\n",
              " 7.152557373046875e-07,\n",
              " 1.1920928955078125e-06,\n",
              " 9.5367431640625e-07,\n",
              " 7.152557373046875e-07,\n",
              " 9.5367431640625e-07,\n",
              " 7.152557373046875e-07,\n",
              " 7.152557373046875e-07,\n",
              " 1.1920928955078125e-06,\n",
              " 7.152557373046875e-07,\n",
              " 7.152557373046875e-07,\n",
              " 9.5367431640625e-07,\n",
              " 7.152557373046875e-07,\n",
              " 7.152557373046875e-07,\n",
              " 7.152557373046875e-07,\n",
              " 7.152557373046875e-07,\n",
              " 9.5367431640625e-07,\n",
              " 7.152557373046875e-07,\n",
              " 7.152557373046875e-07,\n",
              " 9.5367431640625e-07,\n",
              " 7.152557373046875e-07,\n",
              " 7.152557373046875e-07,\n",
              " 7.152557373046875e-07,\n",
              " 9.5367431640625e-07,\n",
              " 7.152557373046875e-07,\n",
              " 7.152557373046875e-07,\n",
              " 7.152557373046875e-07,\n",
              " 9.5367431640625e-07,\n",
              " 7.152557373046875e-07,\n",
              " 7.152557373046875e-07,\n",
              " 9.5367431640625e-07,\n",
              " 9.5367431640625e-07,\n",
              " 7.152557373046875e-07,\n",
              " 9.5367431640625e-07,\n",
              " 7.152557373046875e-07,\n",
              " 7.152557373046875e-07,\n",
              " 7.152557373046875e-07,\n",
              " 7.152557373046875e-07,\n",
              " 9.5367431640625e-07,\n",
              " 9.5367431640625e-07,\n",
              " 7.152557373046875e-07,\n",
              " 9.5367431640625e-07,\n",
              " 7.152557373046875e-07,\n",
              " 7.152557373046875e-07,\n",
              " 9.5367431640625e-07,\n",
              " 7.152557373046875e-07,\n",
              " 7.152557373046875e-07,\n",
              " 7.152557373046875e-07,\n",
              " 7.152557373046875e-07,\n",
              " 7.152557373046875e-07,\n",
              " 7.152557373046875e-07,\n",
              " 7.152557373046875e-07,\n",
              " 9.5367431640625e-07,\n",
              " 7.152557373046875e-07,\n",
              " 7.152557373046875e-07,\n",
              " 9.5367431640625e-07,\n",
              " 9.5367431640625e-07,\n",
              " 7.152557373046875e-07,\n",
              " 9.5367431640625e-07,\n",
              " 7.152557373046875e-07,\n",
              " 7.152557373046875e-07,\n",
              " 7.152557373046875e-07,\n",
              " 7.152557373046875e-07,\n",
              " 9.5367431640625e-07,\n",
              " 7.152557373046875e-07,\n",
              " 7.152557373046875e-07,\n",
              " 1.1920928955078125e-06,\n",
              " 9.5367431640625e-07,\n",
              " 7.152557373046875e-07,\n",
              " 1.1920928955078125e-06,\n",
              " 9.5367431640625e-07,\n",
              " 7.152557373046875e-07,\n",
              " 7.152557373046875e-07,\n",
              " 7.152557373046875e-07,\n",
              " 9.5367431640625e-07,\n",
              " 7.152557373046875e-07,\n",
              " 7.152557373046875e-07,\n",
              " 9.5367431640625e-07,\n",
              " 7.152557373046875e-07,\n",
              " 7.152557373046875e-07,\n",
              " 9.5367431640625e-07,\n",
              " 7.152557373046875e-07,\n",
              " 7.152557373046875e-07,\n",
              " 9.5367431640625e-07,\n",
              " 7.152557373046875e-07,\n",
              " 9.5367431640625e-07,\n",
              " 9.5367431640625e-07,\n",
              " 7.152557373046875e-07,\n",
              " 7.152557373046875e-07,\n",
              " 7.152557373046875e-07,\n",
              " 9.5367431640625e-07,\n",
              " 9.5367431640625e-07,\n",
              " 9.5367431640625e-07,\n",
              " 9.5367431640625e-07,\n",
              " 9.5367431640625e-07,\n",
              " 7.152557373046875e-07,\n",
              " 7.152557373046875e-07,\n",
              " 9.5367431640625e-07,\n",
              " 9.5367431640625e-07,\n",
              " 9.5367431640625e-07,\n",
              " 9.5367431640625e-07,\n",
              " 9.5367431640625e-07,\n",
              " 9.5367431640625e-07,\n",
              " 7.152557373046875e-07,\n",
              " 9.5367431640625e-07,\n",
              " 7.152557373046875e-07,\n",
              " 7.152557373046875e-07,\n",
              " 9.5367431640625e-07,\n",
              " 7.152557373046875e-07,\n",
              " 7.152557373046875e-07,\n",
              " 7.152557373046875e-07,\n",
              " 7.152557373046875e-07,\n",
              " 1.1920928955078125e-06,\n",
              " 9.5367431640625e-07,\n",
              " 9.5367431640625e-07,\n",
              " 1.1920928955078125e-06,\n",
              " 7.152557373046875e-07,\n",
              " 7.152557373046875e-07,\n",
              " 9.5367431640625e-07,\n",
              " 7.152557373046875e-07,\n",
              " 9.5367431640625e-07,\n",
              " 1.1920928955078125e-06,\n",
              " 9.5367431640625e-07,\n",
              " 1.1920928955078125e-06,\n",
              " 7.152557373046875e-07,\n",
              " 7.152557373046875e-07,\n",
              " 9.5367431640625e-07,\n",
              " 7.152557373046875e-07,\n",
              " 9.5367431640625e-07,\n",
              " 1.1920928955078125e-06,\n",
              " 7.152557373046875e-07,\n",
              " 9.5367431640625e-07,\n",
              " 1.1920928955078125e-06,\n",
              " 7.152557373046875e-07,\n",
              " 7.152557373046875e-07,\n",
              " 7.152557373046875e-07,\n",
              " 7.152557373046875e-07,\n",
              " 9.5367431640625e-07,\n",
              " 7.152557373046875e-07,\n",
              " 7.152557373046875e-07,\n",
              " 9.5367431640625e-07,\n",
              " 7.152557373046875e-07,\n",
              " 9.5367431640625e-07,\n",
              " 9.5367431640625e-07,\n",
              " 7.152557373046875e-07,\n",
              " 9.5367431640625e-07,\n",
              " 7.152557373046875e-07,\n",
              " 9.5367431640625e-07,\n",
              " 9.5367431640625e-07,\n",
              " 7.152557373046875e-07,\n",
              " 7.152557373046875e-07,\n",
              " 9.5367431640625e-07,\n",
              " 7.152557373046875e-07,\n",
              " 9.5367431640625e-07,\n",
              " 1.1920928955078125e-06,\n",
              " 9.5367431640625e-07,\n",
              " 7.152557373046875e-07,\n",
              " 7.152557373046875e-07,\n",
              " 7.152557373046875e-07,\n",
              " 9.5367431640625e-07,\n",
              " 7.152557373046875e-07,\n",
              " 9.5367431640625e-07,\n",
              " 1.1920928955078125e-06,\n",
              " 9.5367431640625e-07,\n",
              " 7.152557373046875e-07,\n",
              " 9.5367431640625e-07,\n",
              " 7.152557373046875e-07,\n",
              " 7.152557373046875e-07,\n",
              " 7.152557373046875e-07,\n",
              " 9.5367431640625e-07,\n",
              " 1.1205673217773438e-05,\n",
              " 1.6689300537109375e-06,\n",
              " 1.6689300537109375e-06,\n",
              " 1.6689300537109375e-06,\n",
              " 1.9073486328125e-06,\n",
              " 1.9073486328125e-06,\n",
              " 1.6689300537109375e-06,\n",
              " 1.1920928955078125e-06,\n",
              " 1.6689300537109375e-06,\n",
              " 1.6689300537109375e-06,\n",
              " 1.1920928955078125e-06,\n",
              " 9.5367431640625e-07,\n",
              " 7.152557373046875e-07,\n",
              " 7.152557373046875e-07,\n",
              " 9.5367431640625e-07,\n",
              " 1.430511474609375e-06,\n",
              " 1.6689300537109375e-06,\n",
              " 1.6689300537109375e-06,\n",
              " 1.430511474609375e-06,\n",
              " 1.1920928955078125e-06,\n",
              " 1.430511474609375e-06,\n",
              " 1.430511474609375e-06,\n",
              " 1.1920928955078125e-06,\n",
              " 1.6689300537109375e-06,\n",
              " 1.430511474609375e-06,\n",
              " 1.9073486328125e-06,\n",
              " 1.430511474609375e-06,\n",
              " 1.1920928955078125e-06,\n",
              " 9.5367431640625e-07,\n",
              " 7.152557373046875e-07,\n",
              " 7.152557373046875e-07,\n",
              " 7.152557373046875e-07,\n",
              " 7.152557373046875e-07,\n",
              " 7.152557373046875e-07,\n",
              " 7.152557373046875e-07,\n",
              " 7.152557373046875e-07,\n",
              " 9.5367431640625e-07,\n",
              " 7.152557373046875e-07,\n",
              " 9.5367431640625e-07,\n",
              " 9.5367431640625e-07,\n",
              " 9.5367431640625e-07,\n",
              " 1.1920928955078125e-06,\n",
              " 7.152557373046875e-07,\n",
              " 7.152557373046875e-07,\n",
              " 9.5367431640625e-07,\n",
              " 7.152557373046875e-07,\n",
              " 7.152557373046875e-07,\n",
              " 7.152557373046875e-07,\n",
              " 7.152557373046875e-07,\n",
              " 1.1920928955078125e-06,\n",
              " ...]"
            ]
          },
          "metadata": {},
          "execution_count": 24
        }
      ]
    },
    {
      "cell_type": "markdown",
      "metadata": {
        "id": "WMv21Jl4ksbZ"
      },
      "source": [
        "#### 25. Create a Github account and upload your solution with the short write-up on Numpy"
      ]
    },
    {
      "cell_type": "code",
      "metadata": {
        "id": "fEMGD5pSksbZ",
        "colab": {
          "base_uri": "https://localhost:8080/"
        },
        "outputId": "037be883-bc3a-4da6-f4e6-29280d031cc0"
      },
      "source": [
        "print('https://github.com/sachinSamson/NumPy.git')\n",
        "\n",
        "\n"
      ],
      "execution_count": 26,
      "outputs": [
        {
          "output_type": "stream",
          "name": "stdout",
          "text": [
            "https://github.com/sachinSamson/NumPy.git\n"
          ]
        }
      ]
    }
  ]
}